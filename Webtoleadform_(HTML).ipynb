{
  "nbformat": 4,
  "nbformat_minor": 0,
  "metadata": {
    "colab": {
      "provenance": [],
      "authorship_tag": "ABX9TyO7iW+/9mqaYPhVZwL1q8ld",
      "include_colab_link": true
    },
    "kernelspec": {
      "name": "python3",
      "display_name": "Python 3"
    },
    "language_info": {
      "name": "python"
    }
  },
  "cells": [
    {
      "cell_type": "markdown",
      "metadata": {
        "id": "view-in-github",
        "colab_type": "text"
      },
      "source": [
        "<a href=\"https://colab.research.google.com/github/Brianphungvo/IdentityTrail-Module3/blob/master/Webtoleadform_(HTML).ipynb\" target=\"_parent\"><img src=\"https://colab.research.google.com/assets/colab-badge.svg\" alt=\"Open In Colab\"/></a>"
      ]
    },
    {
      "cell_type": "code",
      "execution_count": null,
      "metadata": {
        "id": "JEVwHevmosbS"
      },
      "outputs": [],
      "source": [
        "<form action=\"https://webto.salesforce.com/servlet/servlet.WebToLead?encoding=UTF-8\" method=\"POST\">\n",
        "\t\n",
        "    <input type=hidden name=\"oid\" value=\"00DDn00000Awj0r\">\n",
        "\t<input type=hidden name=\"retURL\" value=\"https://brave-moose-sit45s-dev-ed.trailblaze.my.site.com/Brianportfolio/s/thanks\">\n",
        "\n",
        "<div class=\"slds-form\">\n",
        "\t<div class=\"slds-form-element slds-form-element_horizontal\">\n",
        "\t\t<label class=\"slds-form-element__label\" for=\"first_name\">First Name</label>\n",
        "\t\t<div class=\"slds-form-element__control\">\n",
        "\t\t<input type=\"text\" id=\"first_name\" name=\"first_name\" placeholder=\"Type your first name here\" class=\"slds-input\" />\n",
        "\t</div>\n",
        "\t</div>\n",
        "\n",
        "\t<div class=\"slds-form-element slds-form-element_horizontal\">\n",
        "\t\t<label class=\"slds-form-element__label\" for=\"last_name\">Last Name</label>\n",
        "\t\t<div class=\"slds-form-element__control\">\n",
        "\t\t<input type=\"text\" id=\"last_name\" name=\"last_name\" placeholder=\"And your last name please\" class=\"slds-input\" />\n",
        "\t</div>\n",
        "\t</div>\n",
        "\t\n",
        "    <div class=\"slds-form-element slds-form-element_horizontal\">\n",
        "\t\t<label class=\"slds-form-element__label\" for=\"title\">Title</label>\n",
        "\t\t<div class=\"slds-form-element__control\">\n",
        "\t\t<input type=\"text\" id=\"title\" name=\"title\" placeholder=\"Your Title\" class=\"slds-input\" />\n",
        "\t</div>\n",
        "\t</div>\n",
        "    \n",
        "\t<div class=\"slds-form-element slds-form-element_horizontal\">\n",
        "\t\t<label class=\"slds-form-element__label\" for=\"company\">Company</label>\n",
        "\t\t<div class=\"slds-form-element__control\">\n",
        "\t\t<input type=\"text\" id=\"company\" name=\"company\" placeholder=\"Your Company\" class=\"slds-input\" />\n",
        "\t</div>\n",
        "\t</div>\n",
        "\t<div class=\"slds-form-element slds-form-element_horizontal\">\n",
        "\t\t<label class=\"slds-form-element__label\" for=\"email\">Email</label>\n",
        "\t\t<div class=\"slds-form-element__control\">\n",
        "\t\t<input type=\"text\" id=\"email\" name=\"email\" placeholder=\"Your Email\" class=\"slds-input\" />\n",
        "\t</div>\n",
        "\t</div>\n",
        "    <div class=\"slds-form-element slds-form-element_horizontal\">\n",
        "\t\t<label class=\"slds-form-element__label\" for=\"url\">Website/LinkedIn Profile</label>\n",
        "\t\t<div class=\"slds-form-element__control\">\n",
        "\t\t<input type=\"text\" id=\"url\" name=\"url\" placeholder=\"Your Company's Site\" class=\"slds-input\" />\n",
        "\t</div>\n",
        "\t</div>\n",
        "\t<div class=\"slds-form-element slds-form-element_horizontal\">\n",
        "\t\t<label class=\"slds-form-element__label\" for=\"description\">Feedback</label>\n",
        "\t\t<div class=\"slds-form-element__control\">\n",
        "\t\t<textarea id=\"textarea\" placeholder=\"Let me know what you think about my Portfolio!\" class=\"slds-textarea\"></textarea>\n",
        "\t</div>\n",
        "\t</div>\n",
        "\n",
        "\t<input class=\"slds-button slds-button_brand\" type=\"submit\" name=\"submit\">\n",
        "</form>\n"
      ]
    }
  ]
}